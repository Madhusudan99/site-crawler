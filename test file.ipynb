{
 "cells": [
  {
   "cell_type": "code",
   "execution_count": 6,
   "metadata": {},
   "outputs": [],
   "source": [
    "from selenium import webdriver\n",
    "from selenium.webdriver.firefox.options import Options\n",
    "from bs4 import BeautifulSoup"
   ]
  },
  {
   "cell_type": "code",
   "execution_count": 7,
   "metadata": {},
   "outputs": [],
   "source": [
    "options = Options()\n",
    "options.headless = True\n",
    "\n",
    "driver = webdriver.Firefox(options=options)"
   ]
  },
  {
   "cell_type": "code",
   "execution_count": 8,
   "metadata": {},
   "outputs": [],
   "source": [
    "driver.get(\"https://www.justdial.com/Bhavnagar/Chemists\")\n",
    "page_source = driver.page_source\n",
    "driver.quit()"
   ]
  },
  {
   "cell_type": "code",
   "execution_count": 9,
   "metadata": {},
   "outputs": [],
   "source": [
    "soup = BeautifulSoup(page_source, 'lxml')"
   ]
  },
  {
   "cell_type": "code",
   "execution_count": 10,
   "metadata": {},
   "outputs": [],
   "source": [
    "li_cn = soup.find_all(\"li\", class_=\"cntanr\")"
   ]
  },
  {
   "cell_type": "code",
   "execution_count": 11,
   "metadata": {},
   "outputs": [
    {
     "output_type": "execute_result",
     "data": {
      "text/plain": [
       "'Apple Pharmacy 2'"
      ]
     },
     "metadata": {},
     "execution_count": 11
    }
   ],
   "source": [
    "li_cn[1].find(\"span\", class_=\"lng_cont_name\").get_text()"
   ]
  },
  {
   "cell_type": "code",
   "execution_count": 12,
   "metadata": {},
   "outputs": [
    {
     "output_type": "stream",
     "name": "stdout",
     "text": [
      "Comred Medical Store\nApple Pharmacy 2\nOm Pharmacy\nHimalay Medical & Consumers\nShivam Medical & Pet Zone\nMahadev Medical and General..\nPadmapriya Medical Store\nGetwellsoononline.com\nComred Medical Store\nApple Pharmacy\n"
     ]
    }
   ],
   "source": [
    "for e in li_cn:\n",
    "    print(e.find(\"span\", class_=\"lng_cont_name\").get_text())"
   ]
  },
  {
   "cell_type": "code",
   "execution_count": 16,
   "metadata": {},
   "outputs": [
    {
     "output_type": "execute_result",
     "data": {
      "text/plain": [
       "'https://www.justdial.com/Bhavnagar/Apple-Pharmacy-2-Near-Shivaji-Circle-Near-Gogha-Road-Bhavnagar-Ho/0278PX278-X278-180901132003-B3M3_BZDET?xid=Qmhhdm5hZ2FyIENoZW1pc3Rz&tab=gallery'"
      ]
     },
     "metadata": {},
     "execution_count": 16
    }
   ],
   "source": [
    "li_cn[1].find(\"a\")['href']"
   ]
  },
  {
   "cell_type": "code",
   "execution_count": 17,
   "metadata": {},
   "outputs": [
    {
     "output_type": "execute_result",
     "data": {
      "text/plain": [
       "'Shop No 10, The Business Tower, Bhavnagar Ho, Bhavnagar - 364001, Near Shivaji Circle, Near Gogha Road'"
      ]
     },
     "metadata": {},
     "execution_count": 17
    }
   ],
   "source": [
    "li_cn[1].find(\"span\", class_=\"cont_fl_addr\").get_text()"
   ]
  },
  {
   "cell_type": "code",
   "execution_count": null,
   "metadata": {},
   "outputs": [],
   "source": [
    "li_cn[1].find(\"\")"
   ]
  }
 ],
 "metadata": {
  "kernelspec": {
   "display_name": "Python 3",
   "language": "python",
   "name": "python3"
  },
  "language_info": {
   "codemirror_mode": {
    "name": "ipython",
    "version": 3
   },
   "file_extension": ".py",
   "mimetype": "text/x-python",
   "name": "python",
   "nbconvert_exporter": "python",
   "pygments_lexer": "ipython3",
   "version": "3.8.3-final"
  }
 },
 "nbformat": 4,
 "nbformat_minor": 4
}